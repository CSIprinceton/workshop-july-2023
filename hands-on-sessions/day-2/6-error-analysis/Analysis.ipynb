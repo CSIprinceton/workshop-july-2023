{
 "cells": [
  {
   "cell_type": "markdown",
   "id": "93f13d5c",
   "metadata": {},
   "source": [
    "# Error Analysis\n",
    "This is a short example for anaylzing the trained model's prediction errors."
   ]
  },
  {
   "cell_type": "markdown",
   "id": "beb8648c",
   "metadata": {},
   "source": [
    "### Model Inference"
   ]
  },
  {
   "cell_type": "code",
   "execution_count": 1,
   "id": "66f44f9c",
   "metadata": {},
   "outputs": [],
   "source": [
    "%%capture\n",
    "from deepmd.infer import DeepPot\n",
    "import numpy as np\n",
    "from matplotlib import pyplot as plt\n",
    "import dpdata\n",
    "from deepmd.common import expand_sys_str\n",
    "from deepmd import DeepPotential"
   ]
  },
  {
   "cell_type": "code",
   "execution_count": 2,
   "id": "876788c9",
   "metadata": {},
   "outputs": [],
   "source": [
    "model = DeepPotential(\"../5-active-learning/data/train-models/1/frozen_model_1_compressed.pb\")\n",
    "all_systems = expand_sys_str(\"../5-active-learning/data/\")\n",
    "E_pred, F_pred, E_true, F_true = [], [], [], []\n",
    "for system in all_systems:\n",
    "    data = dpdata.LabeledSystem(system, fmt='deepmd/npy')\n",
    "    energy, force, virial = model.eval(data['coords'], data['cells'], data['atom_types'])\n",
    "    E_pred.append(energy[:,0])\n",
    "    F_pred.append(force)\n",
    "    E_true.append(data['energies'])\n",
    "    F_true.append(data['forces'])\n",
    "E_pred, F_pred = np.concatenate(E_pred), np.concatenate(F_pred)\n",
    "E_true, F_true = np.concatenate(E_true), np.concatenate(F_true)"
   ]
  },
  {
   "cell_type": "markdown",
   "id": "c9b0b3d5",
   "metadata": {},
   "source": [
    "### RMSE"
   ]
  },
  {
   "cell_type": "code",
   "execution_count": 3,
   "id": "52403c96",
   "metadata": {},
   "outputs": [
    {
     "name": "stdout",
     "output_type": "stream",
     "text": [
      "Energy RMSE (eV):      9.7735e-01\n",
      "Energy RMSE/atom (eV): 1.5271e-02\n",
      "Force RMSE (eV/A):     2.5719e-01\n"
     ]
    }
   ],
   "source": [
    "print('Energy RMSE (eV):      %.4e' % ((E_pred - E_true)**2).mean()**0.5)\n",
    "print('Energy RMSE/atom (eV): %.4e' % (((E_pred - E_true)**2).mean()**0.5 / data['coords'].shape[1]))\n",
    "print('Force RMSE (eV/A):     %.4e' % ((F_pred - F_true)**2).mean()**0.5)"
   ]
  },
  {
   "cell_type": "markdown",
   "id": "ac9c20d1",
   "metadata": {},
   "source": [
    "### Parity Plots"
   ]
  },
  {
   "cell_type": "code",
   "execution_count": 6,
   "id": "4a26f232",
   "metadata": {},
   "outputs": [
    {
     "data": {
      "text/plain": [
       "[<matplotlib.lines.Line2D at 0x1491d4bf58e0>]"
      ]
     },
     "execution_count": 6,
     "metadata": {},
     "output_type": "execute_result"
    },
    {
     "data": {
      "image/png": "[encoded data removed]",
      "text/plain": [
       "<Figure size 432x288 with 1 Axes>"
      ]
     },
     "metadata": {
      "needs_background": "light"
     },
     "output_type": "display_data"
    }
   ],
   "source": [
    "plt.plot(F_true.flatten(), F_true.flatten())\n",
    "plt.plot(F_pred.flatten(), F_true.flatten(), '.')"
   ]
  },
  {
   "cell_type": "markdown",
   "id": "318e36b2",
   "metadata": {},
   "source": [
    "### Error Distribution"
   ]
  },
  {
   "cell_type": "code",
   "execution_count": 9,
   "id": "52ce3c95",
   "metadata": {},
   "outputs": [
    {
     "data": {
      "image/png": "[encoded data removed]",
      "text/plain": [
       "<Figure size 432x288 with 1 Axes>"
      ]
     },
     "metadata": {
      "needs_background": "light"
     },
     "output_type": "display_data"
    }
   ],
   "source": [
    "histogram = plt.hist((F_pred - F_true).flatten(), bins=300, density=True)"
   ]
  }
 ],
 "metadata": {
  "kernelspec": {
   "display_name": "Python-dpreal",
   "language": "python",
   "name": "myenv"
  },
  "language_info": {
   "codemirror_mode": {
    "name": "ipython",
    "version": 3
   },
   "file_extension": ".py",
   "mimetype": "text/x-python",
   "name": "python",
   "nbconvert_exporter": "python",
   "pygments_lexer": "ipython3",
   "version": "3.9.7"
  }
 },
 "nbformat": 4,
 "nbformat_minor": 5
}
