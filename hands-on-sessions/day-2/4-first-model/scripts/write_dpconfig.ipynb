{
 "cells": [
  {
   "cell_type": "markdown",
   "id": "791773c4",
   "metadata": {},
   "source": [
    "# Generate DP Training Config"
   ]
  },
  {
   "cell_type": "code",
   "execution_count": 47,
   "id": "f8c0a613",
   "metadata": {},
   "outputs": [],
   "source": [
    "import copy\n",
    "import json\n",
    "import numpy as np"
   ]
  },
  {
   "cell_type": "code",
   "execution_count": 48,
   "id": "836059e5",
   "metadata": {},
   "outputs": [],
   "source": [
    "template = \"./input.json\""
   ]
  },
  {
   "cell_type": "code",
   "execution_count": 49,
   "id": "3c3fc0bb",
   "metadata": {},
   "outputs": [],
   "source": [
    "with open(template, \"r\") as fopen:\n",
    "    temp_dpconfig = json.load(fopen)"
   ]
  },
  {
   "cell_type": "code",
   "execution_count": 50,
   "id": "a9b77e8c",
   "metadata": {},
   "outputs": [],
   "source": [
    "num_models = 4"
   ]
  },
  {
   "cell_type": "code",
   "execution_count": 51,
   "id": "b0dd8951",
   "metadata": {},
   "outputs": [],
   "source": [
    "# np.random.randint(0, 10000, 4)"
   ]
  },
  {
   "cell_type": "code",
   "execution_count": 52,
   "id": "92a736ae",
   "metadata": {},
   "outputs": [],
   "source": [
    "rng = np.random.default_rng(seed=1112)"
   ]
  },
  {
   "cell_type": "code",
   "execution_count": 53,
   "id": "4bb66d76",
   "metadata": {},
   "outputs": [],
   "source": [
    "random_seeds = rng.integers(0, 10000, 4).tolist()"
   ]
  },
  {
   "cell_type": "code",
   "execution_count": 54,
   "id": "e3d0ccca",
   "metadata": {},
   "outputs": [
    {
     "name": "stdout",
     "output_type": "stream",
     "text": [
      "[2083, 5876, 4247, 5385]\n"
     ]
    }
   ],
   "source": [
    "print(random_seeds)"
   ]
  },
  {
   "cell_type": "code",
   "execution_count": 55,
   "id": "3d3b0ae2",
   "metadata": {},
   "outputs": [],
   "source": [
    "for i, seed in enumerate(random_seeds):\n",
    "    curr_dpconfig = copy.deepcopy(temp_dpconfig)\n",
    "    curr_dpconfig[\"model\"][\"descriptor\"][\"seed\"] = seed\n",
    "    curr_dpconfig[\"model\"][\"fitting_net\"][\"seed\"] = seed\n",
    "    curr_dpconfig[\"training\"][\"seed\"] = seed\n",
    "    with open(f\"./input-{i}.json\", \"w\") as fopen:\n",
    "        json.dump(curr_dpconfig, fopen, indent=4)"
   ]
  },
  {
   "cell_type": "code",
   "execution_count": null,
   "id": "33cc553e",
   "metadata": {},
   "outputs": [],
   "source": []
  }
 ],
 "metadata": {
  "kernelspec": {
   "display_name": "Python 3 (ipykernel)",
   "language": "python",
   "name": "python3"
  },
  "language_info": {
   "codemirror_mode": {
    "name": "ipython",
    "version": 3
   },
   "file_extension": ".py",
   "mimetype": "text/x-python",
   "name": "python",
   "nbconvert_exporter": "python",
   "pygments_lexer": "ipython3",
   "version": "3.10.11"
  }
 },
 "nbformat": 4,
 "nbformat_minor": 5
}
